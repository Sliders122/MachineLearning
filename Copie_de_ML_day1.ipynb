{
  "nbformat": 4,
  "nbformat_minor": 0,
  "metadata": {
    "colab": {
      "name": "Copie de ML_day1.ipynb",
      "provenance": [],
      "authorship_tag": "ABX9TyOyXgZwGa0W02XNBFevgoE0",
      "include_colab_link": true
    },
    "kernelspec": {
      "name": "python3",
      "display_name": "Python 3"
    },
    "language_info": {
      "name": "python"
    }
  },
  "cells": [
    {
      "cell_type": "markdown",
      "metadata": {
        "id": "view-in-github",
        "colab_type": "text"
      },
      "source": [
        "<a href=\"https://colab.research.google.com/github/Sliders122/MachineLearning/blob/main/Copie_de_ML_day1.ipynb\" target=\"_parent\"><img src=\"https://colab.research.google.com/assets/colab-badge.svg\" alt=\"Open In Colab\"/></a>"
      ]
    },
    {
      "cell_type": "markdown",
      "source": [
        "#ML class\n",
        "##Day 1\n",
        "###**Premier fichier**\n",
        "####Common info\n",
        "*   ✉ quentin.voituron@gadzorg\n",
        "*   *Weather forecast*:\n",
        "The weather today is cloudy ☁\n",
        "\n"
      ],
      "metadata": {
        "id": "zd00DIdsFaRz"
      }
    },
    {
      "cell_type": "markdown",
      "source": [
        "# Part 1: Tools\n",
        "*  Github\n",
        "*  Colab\n"
      ],
      "metadata": {
        "id": "5T-NSQqKNYPX"
      }
    },
    {
      "cell_type": "markdown",
      "source": [
        ""
      ],
      "metadata": {
        "id": "qE7doOG3NW8f"
      }
    },
    {
      "cell_type": "code",
      "source": [
        "# Clone the entire repo. Put an exclamation mark to introduce a Bash command\n",
        "!git clone -l -s https://github.com/assansanogo/pythonfun.git"
      ],
      "metadata": {
        "colab": {
          "base_uri": "https://localhost:8080/"
        },
        "id": "LcyO-VXOKMgQ",
        "outputId": "b9b091d2-5ff2-4c98-9c07-0345bc248ed1"
      },
      "execution_count": null,
      "outputs": [
        {
          "output_type": "stream",
          "name": "stdout",
          "text": [
            "fatal: destination path 'pythonfun' already exists and is not an empty directory.\n"
          ]
        }
      ]
    },
    {
      "cell_type": "code",
      "source": [
        "#Check if the importation worked\n",
        "!ls"
      ],
      "metadata": {
        "colab": {
          "base_uri": "https://localhost:8080/"
        },
        "id": "JwPtCYa_L2Ca",
        "outputId": "3f97e4a8-5fb0-4ba5-c1de-46f9115a9823"
      },
      "execution_count": null,
      "outputs": [
        {
          "output_type": "stream",
          "name": "stdout",
          "text": [
            "pythonfun  sample_data\n"
          ]
        }
      ]
    },
    {
      "cell_type": "markdown",
      "source": [
        "# Part 2: varaibles & data structures\n",
        "*  variables\n",
        "*  list\n",
        "*  dictionarary\n",
        "*  print\n",
        "*  strings\n",
        "*  Float/int\n",
        "*  Concatenation\n"
      ],
      "metadata": {
        "id": "9NOFCUC2L3bP"
      }
    },
    {
      "cell_type": "markdown",
      "source": [
        "#Part 3: functions"
      ],
      "metadata": {
        "id": "HQHggDqgNNse"
      }
    },
    {
      "cell_type": "markdown",
      "source": [
        "#Part 4: Loops"
      ],
      "metadata": {
        "id": "dRaGIX9aN_4-"
      }
    },
    {
      "cell_type": "markdown",
      "source": [
        "# Part 5: conditions & exceptions"
      ],
      "metadata": {
        "id": "_8C15xB3OFCN"
      }
    },
    {
      "cell_type": "markdown",
      "source": [
        "#Part 6: Class"
      ],
      "metadata": {
        "id": "KxAzl1YZOJrC"
      }
    },
    {
      "cell_type": "code",
      "source": [
        "class Student():\n",
        "  \"\"\"\n",
        "  Student class\n",
        "  Provide information about name, age, section\n",
        "  \"\"\"\n",
        "  def _init_(self, name, age, section):\n",
        "\n",
        "    #initialization\n",
        "    #self is the keyword we suse to refers to the class object\n",
        "    self.name = name\n",
        "    self.age = age\n",
        "    self.section = section\n",
        "\n",
        "    if self.section == \"DS\":\n",
        "      self.strenght = \"Machine Learning\"\n",
        "    elif self.section == \"DE\":\n",
        "      self.strenght = \"Coding\"\n",
        "    else :\n",
        "      self.strength = \"Something else\"\n",
        "\n",
        "\n"
      ],
      "metadata": {
        "id": "e01Iw6T0q7HF"
      },
      "execution_count": null,
      "outputs": []
    },
    {
      "cell_type": "code",
      "source": [
        "def get_info(self):\n",
        "  \"\"\"\n",
        "  print function, allows to access attribute\n",
        "  \"\"\"\n",
        "  return f\"Name: {self.name}\\nAge: {self.age}\\nSection: {self.section}\\nStrength: {self.strenght}\""
      ],
      "metadata": {
        "id": "0SlU2Wjnv2Q1"
      },
      "execution_count": null,
      "outputs": []
    },
    {
      "cell_type": "code",
      "source": [
        "get_info(Quentin)"
      ],
      "metadata": {
        "colab": {
          "base_uri": "https://localhost:8080/",
          "height": 165
        },
        "id": "9jQKngUFwT5R",
        "outputId": "e42b8318-f0cf-4be8-b5d1-6f2611cb2075"
      },
      "execution_count": null,
      "outputs": [
        {
          "output_type": "error",
          "ename": "NameError",
          "evalue": "ignored",
          "traceback": [
            "\u001b[0;31m---------------------------------------------------------------------------\u001b[0m",
            "\u001b[0;31mNameError\u001b[0m                                 Traceback (most recent call last)",
            "\u001b[0;32m<ipython-input-8-08248b0e9f37>\u001b[0m in \u001b[0;36m<module>\u001b[0;34m()\u001b[0m\n\u001b[0;32m----> 1\u001b[0;31m \u001b[0mget_info\u001b[0m\u001b[0;34m(\u001b[0m\u001b[0mQuentin\u001b[0m\u001b[0;34m)\u001b[0m\u001b[0;34m\u001b[0m\u001b[0;34m\u001b[0m\u001b[0m\n\u001b[0m",
            "\u001b[0;31mNameError\u001b[0m: name 'Quentin' is not defined"
          ]
        }
      ]
    },
    {
      "cell_type": "code",
      "source": [
        "myStudent = Student(\"Quentin\", 30, \"DS\")\n",
        "print (\"Name: \", myStudent.name)\n",
        "print (\"age: \", myStudent.age)\n",
        "print (\"section: \", myStudent.section)"
      ],
      "metadata": {
        "id": "vPRKCaO3ONmo"
      },
      "execution_count": null,
      "outputs": []
    }
  ]
}